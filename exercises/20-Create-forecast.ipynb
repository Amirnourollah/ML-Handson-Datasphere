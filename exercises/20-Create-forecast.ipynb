{
 "cells": [
  {
   "attachments": {},
   "cell_type": "markdown",
   "id": "1e4bc983-c537-4ecd-9f61-b64da15aa8e0",
   "metadata": {},
   "source": [
    "# Machine Learning with SAP Datasphere, Hands-On Workshop\n",
    "## Create first forecast"
   ]
  },
  {
   "cell_type": "markdown",
   "id": "c165fc1b-6a38-402c-a885-d9b9ee12b046",
   "metadata": {},
   "source": [
    "Retrieve the credentials to connect to SAP Datasphere"
   ]
  },
  {
   "cell_type": "code",
   "execution_count": 1,
   "id": "9bc61e94-de9f-4ef0-a062-ef2861680f0c",
   "metadata": {},
   "outputs": [],
   "source": [
    "import json\n",
    "file = open('credentials.json', 'r')\n",
    "credentials = json.load(file)\n",
    "file.close()"
   ]
  },
  {
   "cell_type": "markdown",
   "id": "7cb6f915-95af-4c5b-9341-fbb7822a64d8",
   "metadata": {},
   "source": [
    "Establish a connection with SAP Datasphere"
   ]
  },
  {
   "cell_type": "code",
   "execution_count": 2,
   "id": "33d7629d-a693-42e8-91fa-c90efac6da77",
   "metadata": {},
   "outputs": [
    {
     "data": {
      "text/plain": [
       "True"
      ]
     },
     "execution_count": 2,
     "metadata": {},
     "output_type": "execute_result"
    }
   ],
   "source": [
    "import hana_ml.dataframe as dataframe\n",
    "conn = dataframe.ConnectionContext(address  = credentials['hana_address'],\n",
    "                                   port     = credentials['hana_port'], \n",
    "                                   user     = credentials['hana_user'], \n",
    "                                   password = credentials['hana_password'], \n",
    "                                  )\n",
    "conn.connection.isconnected()"
   ]
  },
  {
   "attachments": {},
   "cell_type": "markdown",
   "id": "3e3c400b-dcbf-4595-b146-c488aecc5fb4",
   "metadata": {},
   "source": [
    "Point a hana_ml DataFrame to the view in SAP Datasphere, which was created in the previous notebook"
   ]
  },
  {
   "cell_type": "code",
   "execution_count": 3,
   "id": "6c13ddda-4b60-4a7e-a2fc-8a0411a47fe7",
   "metadata": {},
   "outputs": [],
   "source": [
    "df_remote = conn.table('V2_LUCERNEELECTRICITY')"
   ]
  },
  {
   "cell_type": "markdown",
   "id": "77b9e5e0-909b-4f67-90a8-e821fce8c947",
   "metadata": {},
   "source": [
    "Retrieve and display a few rows of data from SAP Datasphere"
   ]
  },
  {
   "cell_type": "code",
   "execution_count": 4,
   "id": "1088778e-3534-4dc5-90b3-f8371dc867ce",
   "metadata": {},
   "outputs": [
    {
     "data": {
      "text/html": [
       "<div>\n",
       "<style scoped>\n",
       "    .dataframe tbody tr th:only-of-type {\n",
       "        vertical-align: middle;\n",
       "    }\n",
       "\n",
       "    .dataframe tbody tr th {\n",
       "        vertical-align: top;\n",
       "    }\n",
       "\n",
       "    .dataframe thead th {\n",
       "        text-align: right;\n",
       "    }\n",
       "</style>\n",
       "<table border=\"1\" class=\"dataframe\">\n",
       "  <thead>\n",
       "    <tr style=\"text-align: right;\">\n",
       "      <th></th>\n",
       "      <th>DATEHOUR</th>\n",
       "      <th>CONSUMPTION_H</th>\n",
       "      <th>HOUR</th>\n",
       "    </tr>\n",
       "  </thead>\n",
       "  <tbody>\n",
       "    <tr>\n",
       "      <th>0</th>\n",
       "      <td>2022-01-01 00:00:00</td>\n",
       "      <td>92495.637419999815</td>\n",
       "      <td>0</td>\n",
       "    </tr>\n",
       "    <tr>\n",
       "      <th>1</th>\n",
       "      <td>2022-01-01 01:00:00</td>\n",
       "      <td>76818.075419999825</td>\n",
       "      <td>1</td>\n",
       "    </tr>\n",
       "    <tr>\n",
       "      <th>2</th>\n",
       "      <td>2022-01-01 02:00:00</td>\n",
       "      <td>74258.551919999835</td>\n",
       "      <td>2</td>\n",
       "    </tr>\n",
       "    <tr>\n",
       "      <th>3</th>\n",
       "      <td>2022-01-01 03:00:00</td>\n",
       "      <td>68339.550919999829</td>\n",
       "      <td>3</td>\n",
       "    </tr>\n",
       "    <tr>\n",
       "      <th>4</th>\n",
       "      <td>2022-01-01 04:00:00</td>\n",
       "      <td>63413.690919999855</td>\n",
       "      <td>4</td>\n",
       "    </tr>\n",
       "  </tbody>\n",
       "</table>\n",
       "</div>"
      ],
      "text/plain": [
       "             DATEHOUR       CONSUMPTION_H  HOUR\n",
       "0 2022-01-01 00:00:00  92495.637419999815     0\n",
       "1 2022-01-01 01:00:00  76818.075419999825     1\n",
       "2 2022-01-01 02:00:00  74258.551919999835     2\n",
       "3 2022-01-01 03:00:00  68339.550919999829     3\n",
       "4 2022-01-01 04:00:00  63413.690919999855     4"
      ]
     },
     "execution_count": 4,
     "metadata": {},
     "output_type": "execute_result"
    }
   ],
   "source": [
    "df_remote.head(5).collect()"
   ]
  },
  {
   "attachments": {},
   "cell_type": "markdown",
   "id": "e36df402-24ae-4077-b66c-ef58d958a8d1",
   "metadata": {},
   "source": [
    "Split the data into training and test set. This will allow to train the Machine Learning model on one part of the data (df_rem_train) and to test the accuracy of its forecast on the test data (df_rem_test)."
   ]
  },
  {
   "cell_type": "code",
   "execution_count": 5,
   "id": "20ae3397-8cf3-4073-8e3a-4509823bb1d3",
   "metadata": {},
   "outputs": [],
   "source": [
    "df_rem_train = df_remote.filter('''DATEHOUR > '2022-01-01' AND \"DATEHOUR\" < '2023-06-25'  ''')\n",
    "df_rem_test = df_remote.filter('''\"DATEHOUR\" >='2023-06-25' AND DATEHOUR < '2023-06-27' ''')"
   ]
  },
  {
   "attachments": {},
   "cell_type": "markdown",
   "id": "f52abcfe-ea37-4a5d-b078-4a41721beaff",
   "metadata": {},
   "source": [
    "Train the Machine Learning model on the training data. We use the AdditiveModelForecast algorithm, which is part of the Predictive Analysis Library in SAP HANA Cloud. This algorithm uses the same concept as Facebook's Prophet algorithm, which is very popular for time series forecasts. See the documentation on https://help.sap.com/doc/cd94b08fe2e041c2ba778374572ddba9/2023_2_QRC/en-US/pal/algorithms/hana_ml.algorithms.pal.tsa.additive_model_forecast.AdditiveModelForecast.html"
   ]
  },
  {
   "cell_type": "code",
   "execution_count": 6,
   "id": "4eb892c2-c4e9-4be6-bc9d-ee46793c66c8",
   "metadata": {},
   "outputs": [
    {
     "data": {
      "text/plain": [
       "<hana_ml.algorithms.pal.tsa.additive_model_forecast.AdditiveModelForecast at 0x7f8dc0337d00>"
      ]
     },
     "execution_count": 6,
     "metadata": {},
     "output_type": "execute_result"
    }
   ],
   "source": [
    "from hana_ml.algorithms.pal.tsa.additive_model_forecast import AdditiveModelForecast\n",
    "amf = AdditiveModelForecast()\n",
    "amf.fit(data=df_rem_train.drop('HOUR'))"
   ]
  },
  {
   "cell_type": "markdown",
   "id": "de8b9e4a-6124-4498-b433-95bb3fba38aa",
   "metadata": {},
   "source": [
    "Look at the trained model"
   ]
  },
  {
   "cell_type": "code",
   "execution_count": 7,
   "id": "aa54d10a",
   "metadata": {},
   "outputs": [
    {
     "data": {
      "text/plain": [
       "{'GROWTH': 'linear',\n",
       " 'FLOOR': 0.0,\n",
       " 'SEASONALITY_MODE': 'additive',\n",
       " 'start': '2022-01-01 01:00:00.0000000',\n",
       " 'y_scale': 1097249.4687720018,\n",
       " 't_scale': 46648800.0,\n",
       " 'cat_field_moments': '',\n",
       " 'seasonality_name': [['daily', 'weekly']],\n",
       " 'seasonality_period': [[1.0, 7.0]],\n",
       " 'seasonality_fourier_order': [[4.0, 3.0]],\n",
       " 'seasonality_prior_scale': [[10.0, 10.0]],\n",
       " 'seasonality_mode': [[0, 0]],\n",
       " 'k': 0.1321508552035316,\n",
       " 'm': 0.061146124244456534,\n",
       " 'delta': [[-0.19023908016361168,\n",
       "   -0.041528475478819354,\n",
       "   -0.0004574799366457032,\n",
       "   -0.0158028391376639,\n",
       "   -0.00688958671301197,\n",
       "   5.396312253514689e-05,\n",
       "   0.009485917918803046,\n",
       "   0.052304131474375785,\n",
       "   0.0001816350415940325,\n",
       "   -0.0007464379650221476,\n",
       "   -0.00020536827712468547,\n",
       "   0.0872781839000994,\n",
       "   0.11088310735720784,\n",
       "   0.0041607621491784085,\n",
       "   -4.0510155153982324e-05,\n",
       "   -0.1168933833704492,\n",
       "   1.3797242630358217e-05,\n",
       "   0.29431287961810615,\n",
       "   0.00804073144565246,\n",
       "   -0.3244888192551261,\n",
       "   0.3762506292904484,\n",
       "   -0.1316891445008201,\n",
       "   -0.6739206664834948,\n",
       "   0.0692917938439699,\n",
       "   0.20191821815482117]],\n",
       " 'sigma_obs': 0.022776121645524235,\n",
       " 'beta': [[-0.00011408647101388007,\n",
       "   0.00659262308133968,\n",
       "   0.0010370277270971156,\n",
       "   0.003126218340033589,\n",
       "   0.0031259392650092597,\n",
       "   0.0032064869086866625,\n",
       "   -0.00037581456004129733,\n",
       "   0.0005673710060485854,\n",
       "   -0.0011141456461550496,\n",
       "   0.0008614560055540128,\n",
       "   0.0006183278043947365,\n",
       "   -0.0008534137503117617,\n",
       "   -2.370477138784565e-06,\n",
       "   0.0006932229045251276]],\n",
       " 'changepoints_t': [[0.03202654730668313,\n",
       "   0.06397592221021763,\n",
       "   0.09600246951690075,\n",
       "   0.1280290168235839,\n",
       "   0.1599783917271184,\n",
       "   0.1920049390338015,\n",
       "   0.223954313937336,\n",
       "   0.25598086124401914,\n",
       "   0.2880074085507023,\n",
       "   0.3199567834542368,\n",
       "   0.3519833307609199,\n",
       "   0.384009878067603,\n",
       "   0.4159592529711375,\n",
       "   0.44798580027782064,\n",
       "   0.4800123475845038,\n",
       "   0.5119617224880383,\n",
       "   0.5439882697947214,\n",
       "   0.5760148171014046,\n",
       "   0.607964192004939,\n",
       "   0.6399907393116222,\n",
       "   0.6719401142151566,\n",
       "   0.7039666615218398,\n",
       "   0.7359932088285229,\n",
       "   0.7679425837320574,\n",
       "   0.7999691310387406]],\n",
       " 'holidays_prior_scale': 10.0}"
      ]
     },
     "execution_count": 7,
     "metadata": {},
     "output_type": "execute_result"
    }
   ],
   "source": [
    "import json\n",
    "json.loads(amf.model_.select('MODEL_CONTENT').collect().iloc[0,0])"
   ]
  },
  {
   "cell_type": "markdown",
   "id": "8587e079-1068-4ff1-ad36-8023d1d17a05",
   "metadata": {},
   "source": [
    "Predict the consumption for the time period of the test dataset"
   ]
  },
  {
   "cell_type": "code",
   "execution_count": 8,
   "id": "4a14f8d2-e0c5-4164-ab08-d85fedfd4b1b",
   "metadata": {},
   "outputs": [
    {
     "data": {
      "text/html": [
       "<div>\n",
       "<style scoped>\n",
       "    .dataframe tbody tr th:only-of-type {\n",
       "        vertical-align: middle;\n",
       "    }\n",
       "\n",
       "    .dataframe tbody tr th {\n",
       "        vertical-align: top;\n",
       "    }\n",
       "\n",
       "    .dataframe thead th {\n",
       "        text-align: right;\n",
       "    }\n",
       "</style>\n",
       "<table border=\"1\" class=\"dataframe\">\n",
       "  <thead>\n",
       "    <tr style=\"text-align: right;\">\n",
       "      <th></th>\n",
       "      <th>DATEHOUR</th>\n",
       "      <th>YHAT</th>\n",
       "      <th>YHAT_LOWER</th>\n",
       "      <th>YHAT_UPPER</th>\n",
       "    </tr>\n",
       "  </thead>\n",
       "  <tbody>\n",
       "    <tr>\n",
       "      <th>0</th>\n",
       "      <td>2023-06-25 00:00:00</td>\n",
       "      <td>49407.541110</td>\n",
       "      <td>18808.516650</td>\n",
       "      <td>82295.729669</td>\n",
       "    </tr>\n",
       "    <tr>\n",
       "      <th>1</th>\n",
       "      <td>2023-06-25 01:00:00</td>\n",
       "      <td>49876.170444</td>\n",
       "      <td>18885.126832</td>\n",
       "      <td>83645.999487</td>\n",
       "    </tr>\n",
       "    <tr>\n",
       "      <th>2</th>\n",
       "      <td>2023-06-25 02:00:00</td>\n",
       "      <td>46101.611325</td>\n",
       "      <td>13341.872397</td>\n",
       "      <td>76005.377821</td>\n",
       "    </tr>\n",
       "    <tr>\n",
       "      <th>3</th>\n",
       "      <td>2023-06-25 03:00:00</td>\n",
       "      <td>39852.418956</td>\n",
       "      <td>7116.886547</td>\n",
       "      <td>73219.664507</td>\n",
       "    </tr>\n",
       "    <tr>\n",
       "      <th>4</th>\n",
       "      <td>2023-06-25 04:00:00</td>\n",
       "      <td>33628.329482</td>\n",
       "      <td>1750.209455</td>\n",
       "      <td>68007.647124</td>\n",
       "    </tr>\n",
       "  </tbody>\n",
       "</table>\n",
       "</div>"
      ],
      "text/plain": [
       "             DATEHOUR          YHAT    YHAT_LOWER    YHAT_UPPER\n",
       "0 2023-06-25 00:00:00  49407.541110  18808.516650  82295.729669\n",
       "1 2023-06-25 01:00:00  49876.170444  18885.126832  83645.999487\n",
       "2 2023-06-25 02:00:00  46101.611325  13341.872397  76005.377821\n",
       "3 2023-06-25 03:00:00  39852.418956   7116.886547  73219.664507\n",
       "4 2023-06-25 04:00:00  33628.329482   1750.209455  68007.647124"
      ]
     },
     "execution_count": 8,
     "metadata": {},
     "output_type": "execute_result"
    }
   ],
   "source": [
    "df_rem_predicted = amf.predict(data=df_rem_test)\n",
    "df_rem_predicted.head(5).collect()"
   ]
  },
  {
   "attachments": {},
   "cell_type": "markdown",
   "id": "ef30409e-185d-4758-86ea-7436a3fc765f",
   "metadata": {},
   "source": [
    "Combine the known consumption of the test data with the prediction to assess the forecast accurarcy."
   ]
  },
  {
   "cell_type": "code",
   "execution_count": 9,
   "id": "f35ffb6c-143c-47ab-89d1-a4f7d49e9c51",
   "metadata": {},
   "outputs": [
    {
     "data": {
      "text/html": [
       "<div>\n",
       "<style scoped>\n",
       "    .dataframe tbody tr th:only-of-type {\n",
       "        vertical-align: middle;\n",
       "    }\n",
       "\n",
       "    .dataframe tbody tr th {\n",
       "        vertical-align: top;\n",
       "    }\n",
       "\n",
       "    .dataframe thead th {\n",
       "        text-align: right;\n",
       "    }\n",
       "</style>\n",
       "<table border=\"1\" class=\"dataframe\">\n",
       "  <thead>\n",
       "    <tr style=\"text-align: right;\">\n",
       "      <th></th>\n",
       "      <th>DATEHOUR</th>\n",
       "      <th>CONSUMPTION_H</th>\n",
       "      <th>HOUR</th>\n",
       "      <th>YHAT</th>\n",
       "      <th>YHAT_LOWER</th>\n",
       "      <th>YHAT_UPPER</th>\n",
       "    </tr>\n",
       "  </thead>\n",
       "  <tbody>\n",
       "    <tr>\n",
       "      <th>0</th>\n",
       "      <td>2023-06-25 00:00:00</td>\n",
       "      <td>56622.986472000002</td>\n",
       "      <td>0</td>\n",
       "      <td>49407.541110</td>\n",
       "      <td>18808.516650</td>\n",
       "      <td>82295.729669</td>\n",
       "    </tr>\n",
       "    <tr>\n",
       "      <th>1</th>\n",
       "      <td>2023-06-25 01:00:00</td>\n",
       "      <td>59822.318222000008</td>\n",
       "      <td>1</td>\n",
       "      <td>49876.170444</td>\n",
       "      <td>18885.126832</td>\n",
       "      <td>83645.999487</td>\n",
       "    </tr>\n",
       "    <tr>\n",
       "      <th>2</th>\n",
       "      <td>2023-06-25 02:00:00</td>\n",
       "      <td>34783.877045000003</td>\n",
       "      <td>2</td>\n",
       "      <td>46101.611325</td>\n",
       "      <td>13341.872397</td>\n",
       "      <td>76005.377821</td>\n",
       "    </tr>\n",
       "    <tr>\n",
       "      <th>3</th>\n",
       "      <td>2023-06-25 03:00:00</td>\n",
       "      <td>27965.448171</td>\n",
       "      <td>3</td>\n",
       "      <td>39852.418956</td>\n",
       "      <td>7116.886547</td>\n",
       "      <td>73219.664507</td>\n",
       "    </tr>\n",
       "    <tr>\n",
       "      <th>4</th>\n",
       "      <td>2023-06-25 04:00:00</td>\n",
       "      <td>27491.068442999999</td>\n",
       "      <td>4</td>\n",
       "      <td>33628.329482</td>\n",
       "      <td>1750.209455</td>\n",
       "      <td>68007.647124</td>\n",
       "    </tr>\n",
       "  </tbody>\n",
       "</table>\n",
       "</div>"
      ],
      "text/plain": [
       "             DATEHOUR       CONSUMPTION_H  HOUR          YHAT    YHAT_LOWER  \\\n",
       "0 2023-06-25 00:00:00  56622.986472000002     0  49407.541110  18808.516650   \n",
       "1 2023-06-25 01:00:00  59822.318222000008     1  49876.170444  18885.126832   \n",
       "2 2023-06-25 02:00:00  34783.877045000003     2  46101.611325  13341.872397   \n",
       "3 2023-06-25 03:00:00        27965.448171     3  39852.418956   7116.886547   \n",
       "4 2023-06-25 04:00:00  27491.068442999999     4  33628.329482   1750.209455   \n",
       "\n",
       "     YHAT_UPPER  \n",
       "0  82295.729669  \n",
       "1  83645.999487  \n",
       "2  76005.377821  \n",
       "3  73219.664507  \n",
       "4  68007.647124  "
      ]
     },
     "execution_count": 9,
     "metadata": {},
     "output_type": "execute_result"
    }
   ],
   "source": [
    "df_rem_predicted = df_rem_test.set_index('DATEHOUR').join(df_rem_predicted.set_index('DATEHOUR'))\n",
    "df_rem_predicted.head(5).collect()"
   ]
  },
  {
   "attachments": {},
   "cell_type": "markdown",
   "id": "474f5aec-0097-45b2-95c5-032b2918fccd",
   "metadata": {},
   "source": [
    "Plot the predicted values versus the actual values to visually compare the actuals with the forecast."
   ]
  },
  {
   "cell_type": "code",
   "execution_count": 10,
   "id": "e53a5227-f569-42d9-ac3e-189c6c8e3756",
   "metadata": {},
   "outputs": [
    {
     "data": {
      "image/png": "[encoded data removed]",
      "text/plain": [
       "<Figure size 640x480 with 1 Axes>"
      ]
     },
     "metadata": {},
     "output_type": "display_data"
    }
   ],
   "source": [
    "df_data = df_rem_predicted.sort(\"DATEHOUR\").collect()\n",
    "\n",
    "from matplotlib import pyplot as plt\n",
    "plt.plot(df_data['DATEHOUR'], df_data['YHAT'])\n",
    "plt.plot(df_data['DATEHOUR'], df_data['CONSUMPTION_H'])\n",
    "plt.fill_between(df_data['DATEHOUR'],df_data['YHAT_LOWER'], df_data['YHAT_UPPER'], alpha=.3)\n",
    "plt.legend(['Forecast', 'Actual'])\n",
    "plt.xticks(rotation=45);"
   ]
  },
  {
   "attachments": {},
   "cell_type": "markdown",
   "id": "5a8e46cd-2ab0-44ed-b4e1-33ec9f11d9b8",
   "metadata": {},
   "source": [
    "Calculate an error metrics. We ask for the MAPE, which stands for \"Median Absolute Percentage Error\". Other error metrics are listed in https://help.sap.com/doc/cd94b08fe2e041c2ba778374572ddba9/2023_2_QRC/en-US/pal/algorithms/hana_ml.algorithms.pal.tsa.accuracy_measure.accuracy_measure.html"
   ]
  },
  {
   "cell_type": "code",
   "execution_count": 11,
   "id": "a2fcd286-7c44-4966-922a-d1fb29aa18cf",
   "metadata": {},
   "outputs": [
    {
     "data": {
      "text/html": [
       "<div>\n",
       "<style scoped>\n",
       "    .dataframe tbody tr th:only-of-type {\n",
       "        vertical-align: middle;\n",
       "    }\n",
       "\n",
       "    .dataframe tbody tr th {\n",
       "        vertical-align: top;\n",
       "    }\n",
       "\n",
       "    .dataframe thead th {\n",
       "        text-align: right;\n",
       "    }\n",
       "</style>\n",
       "<table border=\"1\" class=\"dataframe\">\n",
       "  <thead>\n",
       "    <tr style=\"text-align: right;\">\n",
       "      <th></th>\n",
       "      <th>STAT_NAME</th>\n",
       "      <th>STAT_VALUE</th>\n",
       "    </tr>\n",
       "  </thead>\n",
       "  <tbody>\n",
       "    <tr>\n",
       "      <th>0</th>\n",
       "      <td>MAPE</td>\n",
       "      <td>0.148794</td>\n",
       "    </tr>\n",
       "  </tbody>\n",
       "</table>\n",
       "</div>"
      ],
      "text/plain": [
       "  STAT_NAME  STAT_VALUE\n",
       "0      MAPE    0.148794"
      ]
     },
     "execution_count": 11,
     "metadata": {},
     "output_type": "execute_result"
    }
   ],
   "source": [
    "from hana_ml.algorithms.pal.tsa.accuracy_measure import accuracy_measure\n",
    "accuracy_measure(df_rem_predicted.select(['CONSUMPTION_H', 'YHAT']),\n",
    "evaluation_metric='mape').collect()"
   ]
  },
  {
   "attachments": {},
   "cell_type": "markdown",
   "id": "3ff5be8c-d0a3-47d3-ba64-565ca69519d6",
   "metadata": {},
   "source": [
    "Combine the training dataset with the predicted data. This UNION of hana_ml DataFrames requires both to have the same structure. Hence the training data is extended to also contains the columns that hold the predictions."
   ]
  },
  {
   "cell_type": "code",
   "execution_count": 12,
   "id": "2fb57939-6616-475d-823c-4d9c19c8d2c8",
   "metadata": {},
   "outputs": [
    {
     "data": {
      "text/html": [
       "<div>\n",
       "<style scoped>\n",
       "    .dataframe tbody tr th:only-of-type {\n",
       "        vertical-align: middle;\n",
       "    }\n",
       "\n",
       "    .dataframe tbody tr th {\n",
       "        vertical-align: top;\n",
       "    }\n",
       "\n",
       "    .dataframe thead th {\n",
       "        text-align: right;\n",
       "    }\n",
       "</style>\n",
       "<table border=\"1\" class=\"dataframe\">\n",
       "  <thead>\n",
       "    <tr style=\"text-align: right;\">\n",
       "      <th></th>\n",
       "      <th>DATEHOUR</th>\n",
       "      <th>CONSUMPTION_H</th>\n",
       "      <th>HOUR</th>\n",
       "      <th>YHAT</th>\n",
       "      <th>YHAT_LOWER</th>\n",
       "      <th>YHAT_UPPER</th>\n",
       "    </tr>\n",
       "  </thead>\n",
       "  <tbody>\n",
       "    <tr>\n",
       "      <th>0</th>\n",
       "      <td>2023-06-25 18:00:00</td>\n",
       "      <td>40567.730688000001</td>\n",
       "      <td>18</td>\n",
       "      <td>35987.704026</td>\n",
       "      <td>4210.513970</td>\n",
       "      <td>64942.670809</td>\n",
       "    </tr>\n",
       "    <tr>\n",
       "      <th>1</th>\n",
       "      <td>2023-06-25 13:00:00</td>\n",
       "      <td>34188.225704000005</td>\n",
       "      <td>13</td>\n",
       "      <td>26186.681896</td>\n",
       "      <td>-3283.494215</td>\n",
       "      <td>58691.688169</td>\n",
       "    </tr>\n",
       "    <tr>\n",
       "      <th>2</th>\n",
       "      <td>2023-06-26 23:00:00</td>\n",
       "      <td>46589.115436000008</td>\n",
       "      <td>23</td>\n",
       "      <td>49422.343359</td>\n",
       "      <td>17724.189242</td>\n",
       "      <td>82777.516654</td>\n",
       "    </tr>\n",
       "    <tr>\n",
       "      <th>3</th>\n",
       "      <td>2023-06-25 01:00:00</td>\n",
       "      <td>59822.318222000008</td>\n",
       "      <td>1</td>\n",
       "      <td>49876.170444</td>\n",
       "      <td>18885.126832</td>\n",
       "      <td>83645.999487</td>\n",
       "    </tr>\n",
       "    <tr>\n",
       "      <th>4</th>\n",
       "      <td>2023-06-26 02:00:00</td>\n",
       "      <td>36312.268657000001</td>\n",
       "      <td>2</td>\n",
       "      <td>48504.820776</td>\n",
       "      <td>16958.115239</td>\n",
       "      <td>79265.015396</td>\n",
       "    </tr>\n",
       "  </tbody>\n",
       "</table>\n",
       "</div>"
      ],
      "text/plain": [
       "             DATEHOUR       CONSUMPTION_H  HOUR          YHAT    YHAT_LOWER  \\\n",
       "0 2023-06-25 18:00:00  40567.730688000001    18  35987.704026   4210.513970   \n",
       "1 2023-06-25 13:00:00  34188.225704000005    13  26186.681896  -3283.494215   \n",
       "2 2023-06-26 23:00:00  46589.115436000008    23  49422.343359  17724.189242   \n",
       "3 2023-06-25 01:00:00  59822.318222000008     1  49876.170444  18885.126832   \n",
       "4 2023-06-26 02:00:00  36312.268657000001     2  48504.820776  16958.115239   \n",
       "\n",
       "     YHAT_UPPER  \n",
       "0  64942.670809  \n",
       "1  58691.688169  \n",
       "2  82777.516654  \n",
       "3  83645.999487  \n",
       "4  79265.015396  "
      ]
     },
     "execution_count": 12,
     "metadata": {},
     "output_type": "execute_result"
    }
   ],
   "source": [
    "df_rem_train = df_rem_train.select('*', ('NULL', 'YHAT'),\n",
    "                                  ('NULL', 'YHAT_LOWER'),\n",
    "                                  ('NULL', 'YHAT_UPPER')\n",
    "                                  )\n",
    "df_rem_all = df_rem_predicted.union(df_rem_train)\n",
    "df_rem_all.head(5).collect()"
   ]
  },
  {
   "attachments": {},
   "cell_type": "markdown",
   "id": "60c66056-573c-4d08-84ef-acd66602cada",
   "metadata": {},
   "source": [
    "Save the combined dataset as physical table to SAP Datasphere"
   ]
  },
  {
   "cell_type": "code",
   "execution_count": 13,
   "id": "fdcfacc8-03c7-4cce-b6d6-43c3839f8e59",
   "metadata": {},
   "outputs": [
    {
     "data": {
      "text/plain": [
       "<hana_ml.dataframe.DataFrame at 0x7f8d94640e80>"
      ]
     },
     "execution_count": 13,
     "metadata": {},
     "output_type": "execute_result"
    }
   ],
   "source": [
    "df_rem_all.save('LUCERNEELECTRICITY_FORECAST', force=True)"
   ]
  },
  {
   "cell_type": "code",
   "execution_count": null,
   "id": "338b8f45-51e8-418d-8fcf-ae206269a3d7",
   "metadata": {},
   "outputs": [],
   "source": []
  }
 ],
 "metadata": {
  "kernelspec": {
   "display_name": "Python 3",
   "language": "python",
   "name": "python3"
  },
  "language_info": {
   "codemirror_mode": {
    "name": "ipython",
    "version": 3
   },
   "file_extension": ".py",
   "mimetype": "text/x-python",
   "name": "python",
   "nbconvert_exporter": "python",
   "pygments_lexer": "ipython3",
   "version": "3.10.8"
  }
 },
 "nbformat": 4,
 "nbformat_minor": 5
}
