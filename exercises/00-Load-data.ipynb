{
 "cells": [
  {
   "attachments": {},
   "cell_type": "markdown",
   "id": "1e4bc983-c537-4ecd-9f61-b64da15aa8e0",
   "metadata": {},
   "source": [
    "# Machine Learning with SAP Datasphere, Hands-On Workshop\n",
    "## Load the workshop data into SAP Datasphere"
   ]
  },
  {
   "cell_type": "markdown",
   "id": "31d569e0-353c-4c45-aa56-5d8c250e09c9",
   "metadata": {},
   "source": [
    "Load the data from CSV File into a pandas DataFrame"
   ]
  },
  {
   "cell_type": "code",
   "execution_count": 1,
   "id": "80ff18d3-129b-40ea-ae64-023b8fb64cc9",
   "metadata": {},
   "outputs": [],
   "source": [
    "import pandas as pd\n",
    "df_data = pd.read_csv(\"LucerneElectricity.csv\", sep = ';')"
   ]
  },
  {
   "cell_type": "markdown",
   "id": "d38ce999-9132-4d9b-baef-17355af9e3bc",
   "metadata": {},
   "source": [
    "Look at a few rows of data"
   ]
  },
  {
   "cell_type": "code",
   "execution_count": 2,
   "id": "383309de-4d3b-4bd4-9612-b8355c44efe7",
   "metadata": {},
   "outputs": [
    {
     "data": {
      "text/html": [
       "<div>\n",
       "<style scoped>\n",
       "    .dataframe tbody tr th:only-of-type {\n",
       "        vertical-align: middle;\n",
       "    }\n",
       "\n",
       "    .dataframe tbody tr th {\n",
       "        vertical-align: top;\n",
       "    }\n",
       "\n",
       "    .dataframe thead th {\n",
       "        text-align: right;\n",
       "    }\n",
       "</style>\n",
       "<table border=\"1\" class=\"dataframe\">\n",
       "  <thead>\n",
       "    <tr style=\"text-align: right;\">\n",
       "      <th></th>\n",
       "      <th>TIMESTAMP</th>\n",
       "      <th>CONSUMPTION</th>\n",
       "    </tr>\n",
       "  </thead>\n",
       "  <tbody>\n",
       "    <tr>\n",
       "      <th>0</th>\n",
       "      <td>2022-01-01T00:00:00.000Z</td>\n",
       "      <td>25112.140855</td>\n",
       "    </tr>\n",
       "    <tr>\n",
       "      <th>1</th>\n",
       "      <td>2022-01-01T00:15:00.000Z</td>\n",
       "      <td>24611.179355</td>\n",
       "    </tr>\n",
       "    <tr>\n",
       "      <th>2</th>\n",
       "      <td>2022-01-01T00:30:00.000Z</td>\n",
       "      <td>21784.375855</td>\n",
       "    </tr>\n",
       "    <tr>\n",
       "      <th>3</th>\n",
       "      <td>2022-01-01T00:45:00.000Z</td>\n",
       "      <td>20987.941355</td>\n",
       "    </tr>\n",
       "    <tr>\n",
       "      <th>4</th>\n",
       "      <td>2022-01-01T01:00:00.000Z</td>\n",
       "      <td>19466.977355</td>\n",
       "    </tr>\n",
       "  </tbody>\n",
       "</table>\n",
       "</div>"
      ],
      "text/plain": [
       "                  TIMESTAMP   CONSUMPTION\n",
       "0  2022-01-01T00:00:00.000Z  25112.140855\n",
       "1  2022-01-01T00:15:00.000Z  24611.179355\n",
       "2  2022-01-01T00:30:00.000Z  21784.375855\n",
       "3  2022-01-01T00:45:00.000Z  20987.941355\n",
       "4  2022-01-01T01:00:00.000Z  19466.977355"
      ]
     },
     "execution_count": 2,
     "metadata": {},
     "output_type": "execute_result"
    }
   ],
   "source": [
    "df_data.head(5)"
   ]
  },
  {
   "cell_type": "markdown",
   "id": "f38e5c2d-6f44-460b-8479-03a97e218382",
   "metadata": {},
   "source": [
    "Ensure the TIMESTAMP column is treated as a DateTime"
   ]
  },
  {
   "cell_type": "code",
   "execution_count": 3,
   "id": "1b716a1b-95df-4351-a655-c1219bf65eb7",
   "metadata": {},
   "outputs": [],
   "source": [
    "df_data.TIMESTAMP = pd.to_datetime(df_data.TIMESTAMP) "
   ]
  },
  {
   "cell_type": "markdown",
   "id": "2381cebe-71ca-4447-b3ee-e08ddac75077",
   "metadata": {},
   "source": [
    "Retrieve the credentials to connect to SAP Datasphere"
   ]
  },
  {
   "cell_type": "code",
   "execution_count": 4,
   "id": "6a47c952-3081-4644-a05a-6916904468f8",
   "metadata": {},
   "outputs": [],
   "source": [
    "import json\n",
    "file = open('credentials.json', 'r')\n",
    "credentials = json.load(file)\n",
    "file.close()"
   ]
  },
  {
   "attachments": {},
   "cell_type": "markdown",
   "id": "3809515b-8d0b-401d-a6a4-96a45463e50c",
   "metadata": {},
   "source": [
    "Establish a connection with SAP Datasphere with these credentials"
   ]
  },
  {
   "cell_type": "code",
   "execution_count": 5,
   "id": "b5e450dd-bcd1-4fd9-b236-fa46fdbdd6bc",
   "metadata": {},
   "outputs": [
    {
     "data": {
      "text/plain": [
       "True"
      ]
     },
     "execution_count": 5,
     "metadata": {},
     "output_type": "execute_result"
    }
   ],
   "source": [
    "import hana_ml.dataframe as dataframe\n",
    "conn = dataframe.ConnectionContext(address  = credentials['hana_address'],\n",
    "                                   port     = credentials['hana_port'], \n",
    "                                   user     = credentials['hana_user'], \n",
    "                                   password = credentials['hana_password'], \n",
    "                                  )\n",
    "conn.connection.isconnected()"
   ]
  },
  {
   "cell_type": "markdown",
   "id": "77ec4b74-6919-4a41-a419-ed7eb557a4cc",
   "metadata": {},
   "source": [
    "Load the pandas DataFrame as table into SAP Datasphere"
   ]
  },
  {
   "cell_type": "code",
   "execution_count": 6,
   "id": "071ed14a-5c4b-461c-b4b2-7da31ad7a941",
   "metadata": {},
   "outputs": [
    {
     "name": "stderr",
     "output_type": "stream",
     "text": [
      "100%|██████████| 2/2 [00:00<00:00,  3.25it/s]\n"
     ]
    }
   ],
   "source": [
    "df_remote = dataframe.create_dataframe_from_pandas(\n",
    "    connection_context=conn,\n",
    "    pandas_df=df_data,\n",
    "    table_name='LUCERNEELECTRICITY',\n",
    "    force=True,\n",
    "    drop_exist_tab=True,\n",
    "    replace=False)"
   ]
  },
  {
   "cell_type": "markdown",
   "id": "67d5ebb0-310b-4937-b722-ddc72b461302",
   "metadata": {},
   "source": [
    "Count how many rows were uploaded"
   ]
  },
  {
   "cell_type": "code",
   "execution_count": 7,
   "id": "053dc995-22c6-473c-8eb8-48bb0724f5ba",
   "metadata": {},
   "outputs": [
    {
     "data": {
      "text/plain": [
       "52404"
      ]
     },
     "execution_count": 7,
     "metadata": {},
     "output_type": "execute_result"
    }
   ],
   "source": [
    "df_remote.count()"
   ]
  },
  {
   "cell_type": "markdown",
   "id": "1b06c00a-5cb5-4326-a648-121e2c1dc85b",
   "metadata": {},
   "source": [
    "Retrieve and display a few rows of data from SAP Datasphere"
   ]
  },
  {
   "cell_type": "code",
   "execution_count": 8,
   "id": "ab1f3c96-2231-4bff-af18-c2fff783d8e3",
   "metadata": {},
   "outputs": [
    {
     "data": {
      "text/html": [
       "<div>\n",
       "<style scoped>\n",
       "    .dataframe tbody tr th:only-of-type {\n",
       "        vertical-align: middle;\n",
       "    }\n",
       "\n",
       "    .dataframe tbody tr th {\n",
       "        vertical-align: top;\n",
       "    }\n",
       "\n",
       "    .dataframe thead th {\n",
       "        text-align: right;\n",
       "    }\n",
       "</style>\n",
       "<table border=\"1\" class=\"dataframe\">\n",
       "  <thead>\n",
       "    <tr style=\"text-align: right;\">\n",
       "      <th></th>\n",
       "      <th>TIMESTAMP</th>\n",
       "      <th>CONSUMPTION</th>\n",
       "    </tr>\n",
       "  </thead>\n",
       "  <tbody>\n",
       "    <tr>\n",
       "      <th>0</th>\n",
       "      <td>2022-01-01 00:00:00</td>\n",
       "      <td>25112.140855</td>\n",
       "    </tr>\n",
       "    <tr>\n",
       "      <th>1</th>\n",
       "      <td>2022-01-01 00:15:00</td>\n",
       "      <td>24611.179355</td>\n",
       "    </tr>\n",
       "    <tr>\n",
       "      <th>2</th>\n",
       "      <td>2022-01-01 00:30:00</td>\n",
       "      <td>21784.375855</td>\n",
       "    </tr>\n",
       "    <tr>\n",
       "      <th>3</th>\n",
       "      <td>2022-01-01 00:45:00</td>\n",
       "      <td>20987.941355</td>\n",
       "    </tr>\n",
       "    <tr>\n",
       "      <th>4</th>\n",
       "      <td>2022-01-01 01:00:00</td>\n",
       "      <td>19466.977355</td>\n",
       "    </tr>\n",
       "  </tbody>\n",
       "</table>\n",
       "</div>"
      ],
      "text/plain": [
       "            TIMESTAMP   CONSUMPTION\n",
       "0 2022-01-01 00:00:00  25112.140855\n",
       "1 2022-01-01 00:15:00  24611.179355\n",
       "2 2022-01-01 00:30:00  21784.375855\n",
       "3 2022-01-01 00:45:00  20987.941355\n",
       "4 2022-01-01 01:00:00  19466.977355"
      ]
     },
     "execution_count": 8,
     "metadata": {},
     "output_type": "execute_result"
    }
   ],
   "source": [
    "df_remote.head(5).collect()"
   ]
  },
  {
   "cell_type": "code",
   "execution_count": null,
   "id": "9835ebff-f508-4772-b1f7-ccc8041ec21f",
   "metadata": {},
   "outputs": [],
   "source": []
  }
 ],
 "metadata": {
  "kernelspec": {
   "display_name": "Python 3",
   "language": "python",
   "name": "python3"
  },
  "language_info": {
   "codemirror_mode": {
    "name": "ipython",
    "version": 3
   },
   "file_extension": ".py",
   "mimetype": "text/x-python",
   "name": "python",
   "nbconvert_exporter": "python",
   "pygments_lexer": "ipython3",
   "version": "3.9.2"
  }
 },
 "nbformat": 4,
 "nbformat_minor": 5
}
