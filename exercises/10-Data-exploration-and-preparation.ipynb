{
 "cells": [
  {
   "attachments": {},
   "cell_type": "markdown",
   "id": "1e4bc983-c537-4ecd-9f61-b64da15aa8e0",
   "metadata": {},
   "source": [
    "# Machine Learning with SAP Datasphere, Hands-On Workshop\n",
    "## Explore and prepare the data in SAP Datasphere"
   ]
  },
  {
   "cell_type": "markdown",
   "id": "c165fc1b-6a38-402c-a885-d9b9ee12b046",
   "metadata": {},
   "source": [
    "Retrieve the credentials to connect to SAP Datasphere"
   ]
  },
  {
   "cell_type": "code",
   "execution_count": 1,
   "id": "9bc61e94-de9f-4ef0-a062-ef2861680f0c",
   "metadata": {},
   "outputs": [],
   "source": [
    "import json\n",
    "file = open('credentials.json', 'r')\n",
    "credentials = json.load(file)\n",
    "file.close()"
   ]
  },
  {
   "cell_type": "markdown",
   "id": "7cb6f915-95af-4c5b-9341-fbb7822a64d8",
   "metadata": {},
   "source": [
    "Establish a connection with SAP Datasphere"
   ]
  },
  {
   "cell_type": "code",
   "execution_count": 2,
   "id": "33d7629d-a693-42e8-91fa-c90efac6da77",
   "metadata": {},
   "outputs": [
    {
     "data": {
      "text/plain": [
       "True"
      ]
     },
     "execution_count": 2,
     "metadata": {},
     "output_type": "execute_result"
    }
   ],
   "source": [
    "import hana_ml.dataframe as dataframe\n",
    "conn = dataframe.ConnectionContext(address  = credentials['hana_address'],\n",
    "                                   port     = credentials['hana_port'], \n",
    "                                   user     = credentials['hana_user'], \n",
    "                                   password = credentials['hana_password'], \n",
    "                                  )\n",
    "conn.connection.isconnected()"
   ]
  },
  {
   "attachments": {},
   "cell_type": "markdown",
   "id": "3e3c400b-dcbf-4595-b146-c488aecc5fb4",
   "metadata": {},
   "source": [
    "Point a hana_ml DataFrame to the table in SAP Datasphere, which holds the data that was loaded in the  previous Notebook. The variable df_remote is a reference to the data, which remains in SAP Datasphere. This command does not extract the data from SAP Datasphere. We will use such hana_ml Dataframes extensively in this Workshop as they allow to process the data in SAP Datasphere."
   ]
  },
  {
   "cell_type": "code",
   "execution_count": 3,
   "id": "6c13ddda-4b60-4a7e-a2fc-8a0411a47fe7",
   "metadata": {},
   "outputs": [],
   "source": [
    "df_remote = conn.table('LUCERNEELECTRICITY')"
   ]
  },
  {
   "attachments": {},
   "cell_type": "markdown",
   "id": "77b9e5e0-909b-4f67-90a8-e821fce8c947",
   "metadata": {},
   "source": [
    "Retrieve and display a few rows of data from SAP Datasphere. First restrict the hana_ml Dataframe to only 5 rows with the head()-method. Then download these 5 rows with the collect()-method into the Notebook."
   ]
  },
  {
   "cell_type": "code",
   "execution_count": 4,
   "id": "1088778e-3534-4dc5-90b3-f8371dc867ce",
   "metadata": {},
   "outputs": [
    {
     "data": {
      "text/html": [
       "<div>\n",
       "<style scoped>\n",
       "    .dataframe tbody tr th:only-of-type {\n",
       "        vertical-align: middle;\n",
       "    }\n",
       "\n",
       "    .dataframe tbody tr th {\n",
       "        vertical-align: top;\n",
       "    }\n",
       "\n",
       "    .dataframe thead th {\n",
       "        text-align: right;\n",
       "    }\n",
       "</style>\n",
       "<table border=\"1\" class=\"dataframe\">\n",
       "  <thead>\n",
       "    <tr style=\"text-align: right;\">\n",
       "      <th></th>\n",
       "      <th>TIMESTAMP</th>\n",
       "      <th>CONSUMPTION</th>\n",
       "    </tr>\n",
       "  </thead>\n",
       "  <tbody>\n",
       "    <tr>\n",
       "      <th>0</th>\n",
       "      <td>2022-01-01 00:00:00</td>\n",
       "      <td>25112.140855</td>\n",
       "    </tr>\n",
       "    <tr>\n",
       "      <th>1</th>\n",
       "      <td>2022-01-01 00:15:00</td>\n",
       "      <td>24611.179355</td>\n",
       "    </tr>\n",
       "    <tr>\n",
       "      <th>2</th>\n",
       "      <td>2022-01-01 00:30:00</td>\n",
       "      <td>21784.375855</td>\n",
       "    </tr>\n",
       "    <tr>\n",
       "      <th>3</th>\n",
       "      <td>2022-01-01 00:45:00</td>\n",
       "      <td>20987.941355</td>\n",
       "    </tr>\n",
       "    <tr>\n",
       "      <th>4</th>\n",
       "      <td>2022-01-01 01:00:00</td>\n",
       "      <td>19466.977355</td>\n",
       "    </tr>\n",
       "  </tbody>\n",
       "</table>\n",
       "</div>"
      ],
      "text/plain": [
       "            TIMESTAMP   CONSUMPTION\n",
       "0 2022-01-01 00:00:00  25112.140855\n",
       "1 2022-01-01 00:15:00  24611.179355\n",
       "2 2022-01-01 00:30:00  21784.375855\n",
       "3 2022-01-01 00:45:00  20987.941355\n",
       "4 2022-01-01 01:00:00  19466.977355"
      ]
     },
     "execution_count": 4,
     "metadata": {},
     "output_type": "execute_result"
    }
   ],
   "source": [
    "df_remote.head(5).collect()"
   ]
  },
  {
   "cell_type": "markdown",
   "id": "23de6390-f1a9-4d97-b96b-74a5c66e29fd",
   "metadata": {},
   "source": [
    "Get a first overview of the data"
   ]
  },
  {
   "cell_type": "code",
   "execution_count": 5,
   "id": "57c0f36a-c57c-4dd3-9316-1d14ab506584",
   "metadata": {},
   "outputs": [
    {
     "data": {
      "text/html": [
       "<div>\n",
       "<style scoped>\n",
       "    .dataframe tbody tr th:only-of-type {\n",
       "        vertical-align: middle;\n",
       "    }\n",
       "\n",
       "    .dataframe tbody tr th {\n",
       "        vertical-align: top;\n",
       "    }\n",
       "\n",
       "    .dataframe thead th {\n",
       "        text-align: right;\n",
       "    }\n",
       "</style>\n",
       "<table border=\"1\" class=\"dataframe\">\n",
       "  <thead>\n",
       "    <tr style=\"text-align: right;\">\n",
       "      <th></th>\n",
       "      <th>column</th>\n",
       "      <th>count</th>\n",
       "      <th>unique</th>\n",
       "      <th>nulls</th>\n",
       "      <th>mean</th>\n",
       "      <th>std</th>\n",
       "      <th>min</th>\n",
       "      <th>max</th>\n",
       "      <th>median</th>\n",
       "      <th>25_percent_cont</th>\n",
       "      <th>25_percent_disc</th>\n",
       "      <th>50_percent_cont</th>\n",
       "      <th>50_percent_disc</th>\n",
       "      <th>75_percent_cont</th>\n",
       "      <th>75_percent_disc</th>\n",
       "    </tr>\n",
       "  </thead>\n",
       "  <tbody>\n",
       "    <tr>\n",
       "      <th>0</th>\n",
       "      <td>CONSUMPTION</td>\n",
       "      <td>52404</td>\n",
       "      <td>52404</td>\n",
       "      <td>0</td>\n",
       "      <td>14644.234253</td>\n",
       "      <td>12553.75482</td>\n",
       "      <td>4994.015745</td>\n",
       "      <td>1.023296e+06</td>\n",
       "      <td>13412.452211</td>\n",
       "      <td>10614.073307</td>\n",
       "      <td>10614.027547</td>\n",
       "      <td>13412.452211</td>\n",
       "      <td>13412.386672</td>\n",
       "      <td>17361.186838</td>\n",
       "      <td>17361.09715</td>\n",
       "    </tr>\n",
       "    <tr>\n",
       "      <th>1</th>\n",
       "      <td>TIMESTAMP</td>\n",
       "      <td>52404</td>\n",
       "      <td>52404</td>\n",
       "      <td>0</td>\n",
       "      <td>NaN</td>\n",
       "      <td>NaN</td>\n",
       "      <td>NaN</td>\n",
       "      <td>NaN</td>\n",
       "      <td>NaN</td>\n",
       "      <td>NaN</td>\n",
       "      <td>NaN</td>\n",
       "      <td>NaN</td>\n",
       "      <td>NaN</td>\n",
       "      <td>NaN</td>\n",
       "      <td>NaN</td>\n",
       "    </tr>\n",
       "  </tbody>\n",
       "</table>\n",
       "</div>"
      ],
      "text/plain": [
       "        column  count  unique  nulls          mean          std          min  \\\n",
       "0  CONSUMPTION  52404   52404      0  14644.234253  12553.75482  4994.015745   \n",
       "1    TIMESTAMP  52404   52404      0           NaN          NaN          NaN   \n",
       "\n",
       "            max        median  25_percent_cont  25_percent_disc  \\\n",
       "0  1.023296e+06  13412.452211     10614.073307     10614.027547   \n",
       "1           NaN           NaN              NaN              NaN   \n",
       "\n",
       "   50_percent_cont  50_percent_disc  75_percent_cont  75_percent_disc  \n",
       "0     13412.452211     13412.386672     17361.186838      17361.09715  \n",
       "1              NaN              NaN              NaN              NaN  "
      ]
     },
     "execution_count": 5,
     "metadata": {},
     "output_type": "execute_result"
    }
   ],
   "source": [
    "df_remote.describe().collect()"
   ]
  },
  {
   "attachments": {},
   "cell_type": "markdown",
   "id": "870b4113-1db3-44ea-9e85-72d120dc1431",
   "metadata": {},
   "source": [
    "All above statistics were calculated in SAP Datasphere. See the SELECT Statement that was created by the describe()-method and executed in SAP Datasphere."
   ]
  },
  {
   "cell_type": "code",
   "execution_count": 6,
   "id": "4363c362-2878-4d4c-80f8-bb1a631e9dfa",
   "metadata": {},
   "outputs": [
    {
     "name": "stdout",
     "output_type": "stream",
     "text": [
      "SELECT * FROM (SELECT \"SimpleStats\".*, \"Percentiles\".\"25_percent_cont\", \"Percentiles\".\"25_percent_disc\", \"Percentiles\".\"50_percent_cont\", \"Percentiles\".\"50_percent_disc\", \"Percentiles\".\"75_percent_cont\", \"Percentiles\".\"75_percent_disc\" FROM (select 'CONSUMPTION' as \"column\", COUNT(\"CONSUMPTION\") as \"count\", COUNT(DISTINCT \"CONSUMPTION\") as \"unique\", SUM(CASE WHEN \"CONSUMPTION\" is NULL THEN 1 ELSE 0 END) as \"nulls\", AVG(TO_DOUBLE(\"CONSUMPTION\")) as \"mean\", STDDEV(\"CONSUMPTION\") as \"std\", MIN(\"CONSUMPTION\") as \"min\", MAX(\"CONSUMPTION\") as \"max\", MEDIAN(\"CONSUMPTION\") as \"median\" FROM (SELECT * FROM \"LUCERNEELECTRICITY\") AS \"DT_0\") AS \"SimpleStats\", (SELECT 'CONSUMPTION' as \"column\", * FROM (SELECT percentile_cont(0.25) WITHIN GROUP (ORDER BY \"CONSUMPTION\") AS \"25_percent_cont\", percentile_disc(0.25) WITHIN GROUP (ORDER BY \"CONSUMPTION\") AS \"25_percent_disc\", percentile_cont(0.50) WITHIN GROUP (ORDER BY \"CONSUMPTION\") AS \"50_percent_cont\", percentile_disc(0.50) WITHIN GROUP (ORDER BY \"CONSUMPTION\") AS \"50_percent_disc\", percentile_cont(0.75) WITHIN GROUP (ORDER BY \"CONSUMPTION\") AS \"75_percent_cont\", percentile_disc(0.75) WITHIN GROUP (ORDER BY \"CONSUMPTION\") AS \"75_percent_disc\" FROM (SELECT * FROM \"LUCERNEELECTRICITY\") AS \"DT_0\")) AS \"Percentiles\" WHERE \"SimpleStats\".\"column\" = \"Percentiles\".\"column\") AS \"Numerics\" UNION ALL SELECT * FROM (select 'TIMESTAMP' as \"column\", COUNT(\"TIMESTAMP\") as \"count\", COUNT(DISTINCT \"TIMESTAMP\") as \"unique\", SUM(CASE WHEN \"TIMESTAMP\" IS NULL THEN 1 ELSE 0 END) as \"nulls\", CAST(NULL as DOUBLE) AS \"mean\", CAST(NULL as double) as \"std\", CAST(NULL as DOUBLE) AS \"min\", CAST(NULL as DOUBLE) AS \"max\", CAST(NULL as DOUBLE) AS \"median\", CAST(NULL AS DOUBLE) AS \"25_percent_cont\", CAST(NULL AS DOUBLE) AS \"25_percent_disc\", CAST(NULL AS DOUBLE) AS \"50_percent_cont\", CAST(NULL AS DOUBLE) AS \"50_percent_disc\", CAST(NULL AS DOUBLE) AS \"75_percent_cont\", CAST(NULL AS DOUBLE) AS \"75_percent_disc\" FROM (SELECT * FROM \"LUCERNEELECTRICITY\") AS \"DT_0\") AS \"NonNumerics\"\n"
     ]
    }
   ],
   "source": [
    "print(df_remote.describe().select_statement)"
   ]
  },
  {
   "attachments": {},
   "cell_type": "markdown",
   "id": "19313aa4-8206-4e01-9e42-de3d30ed07dd",
   "metadata": {},
   "source": [
    "Retrieve and plot the most recent 100 data points (each data point corresponds to a 15-minute interval)"
   ]
  },
  {
   "cell_type": "code",
   "execution_count": 7,
   "id": "564c2cc3-dd84-4b0a-a20c-198f2041080d",
   "metadata": {},
   "outputs": [],
   "source": [
    "df_data = df_remote.sort('TIMESTAMP').tail(n=100, ref_col='TIMESTAMP').collect()"
   ]
  },
  {
   "cell_type": "code",
   "execution_count": 8,
   "id": "06332250-cee0-4ad9-b643-b491faa04ad7",
   "metadata": {},
   "outputs": [
    {
     "data": {
      "image/png": "[encoded data removed]",
      "text/plain": [
       "<Figure size 1500x500 with 1 Axes>"
      ]
     },
     "metadata": {},
     "output_type": "display_data"
    }
   ],
   "source": [
    "import seaborn as sns\n",
    "import matplotlib.pyplot as plt\n",
    "sns.set_theme()\n",
    "sns.set(rc={'figure.figsize':(15,5)})\n",
    "sns.lineplot(data=df_data, x=\"TIMESTAMP\", y=\"CONSUMPTION\")\n",
    "plt.xticks(rotation=45);"
   ]
  },
  {
   "attachments": {},
   "cell_type": "markdown",
   "id": "d474dba5-bfd2-4008-aa1a-b6d0e52147f5",
   "metadata": {},
   "source": [
    "Add a column that standardises the TIMESTAMP column to the full hour, so  minutes 15, 30 and 45 are set to 0. This is done by subtracting the seconds that passed since the full hour. This column is part of the hana_ml Dataframe. The underlying table remains unchanged."
   ]
  },
  {
   "cell_type": "code",
   "execution_count": 9,
   "id": "cc128495-c103-46c3-9f93-8945b7997c24",
   "metadata": {},
   "outputs": [
    {
     "data": {
      "text/html": [
       "<div>\n",
       "<style scoped>\n",
       "    .dataframe tbody tr th:only-of-type {\n",
       "        vertical-align: middle;\n",
       "    }\n",
       "\n",
       "    .dataframe tbody tr th {\n",
       "        vertical-align: top;\n",
       "    }\n",
       "\n",
       "    .dataframe thead th {\n",
       "        text-align: right;\n",
       "    }\n",
       "</style>\n",
       "<table border=\"1\" class=\"dataframe\">\n",
       "  <thead>\n",
       "    <tr style=\"text-align: right;\">\n",
       "      <th></th>\n",
       "      <th>TIMESTAMP</th>\n",
       "      <th>CONSUMPTION</th>\n",
       "      <th>DATEHOUR</th>\n",
       "    </tr>\n",
       "  </thead>\n",
       "  <tbody>\n",
       "    <tr>\n",
       "      <th>0</th>\n",
       "      <td>2022-01-01 00:00:00</td>\n",
       "      <td>25112.140855</td>\n",
       "      <td>2022-01-01 00:00:00</td>\n",
       "    </tr>\n",
       "    <tr>\n",
       "      <th>1</th>\n",
       "      <td>2022-01-01 00:15:00</td>\n",
       "      <td>24611.179355</td>\n",
       "      <td>2022-01-01 00:00:00</td>\n",
       "    </tr>\n",
       "    <tr>\n",
       "      <th>2</th>\n",
       "      <td>2022-01-01 00:30:00</td>\n",
       "      <td>21784.375855</td>\n",
       "      <td>2022-01-01 00:00:00</td>\n",
       "    </tr>\n",
       "    <tr>\n",
       "      <th>3</th>\n",
       "      <td>2022-01-01 00:45:00</td>\n",
       "      <td>20987.941355</td>\n",
       "      <td>2022-01-01 00:00:00</td>\n",
       "    </tr>\n",
       "    <tr>\n",
       "      <th>4</th>\n",
       "      <td>2022-01-01 01:00:00</td>\n",
       "      <td>19466.977355</td>\n",
       "      <td>2022-01-01 01:00:00</td>\n",
       "    </tr>\n",
       "  </tbody>\n",
       "</table>\n",
       "</div>"
      ],
      "text/plain": [
       "            TIMESTAMP   CONSUMPTION            DATEHOUR\n",
       "0 2022-01-01 00:00:00  25112.140855 2022-01-01 00:00:00\n",
       "1 2022-01-01 00:15:00  24611.179355 2022-01-01 00:00:00\n",
       "2 2022-01-01 00:30:00  21784.375855 2022-01-01 00:00:00\n",
       "3 2022-01-01 00:45:00  20987.941355 2022-01-01 00:00:00\n",
       "4 2022-01-01 01:00:00  19466.977355 2022-01-01 01:00:00"
      ]
     },
     "execution_count": 9,
     "metadata": {},
     "output_type": "execute_result"
    }
   ],
   "source": [
    "df_remote = df_remote.select('*', (\"ADD_SECONDS(TIMESTAMP, -MINUTE(TIMESTAMP)*60)\", 'DATEHOUR'))\n",
    "df_remote.head(5).collect()"
   ]
  },
  {
   "attachments": {},
   "cell_type": "markdown",
   "id": "819c8f0d-f16c-439c-938f-ce93632978e2",
   "metadata": {},
   "source": [
    "Use the newly created column to aggregate the consumtion on the hour of the day, thereby adding the consumption from minutes 15, 30 and 45 to the corresponding full hour. This aggregation is done on the fly. The aggregate is not persisted as physical table."
   ]
  },
  {
   "cell_type": "code",
   "execution_count": 10,
   "id": "57930468-3ce1-4b7b-b10e-93268d76ca21",
   "metadata": {},
   "outputs": [
    {
     "data": {
      "text/html": [
       "<div>\n",
       "<style scoped>\n",
       "    .dataframe tbody tr th:only-of-type {\n",
       "        vertical-align: middle;\n",
       "    }\n",
       "\n",
       "    .dataframe tbody tr th {\n",
       "        vertical-align: top;\n",
       "    }\n",
       "\n",
       "    .dataframe thead th {\n",
       "        text-align: right;\n",
       "    }\n",
       "</style>\n",
       "<table border=\"1\" class=\"dataframe\">\n",
       "  <thead>\n",
       "    <tr style=\"text-align: right;\">\n",
       "      <th></th>\n",
       "      <th>DATEHOUR</th>\n",
       "      <th>CONSUMPTION_H</th>\n",
       "    </tr>\n",
       "  </thead>\n",
       "  <tbody>\n",
       "    <tr>\n",
       "      <th>0</th>\n",
       "      <td>2022-01-01 00:00:00</td>\n",
       "      <td>92495.63742</td>\n",
       "    </tr>\n",
       "    <tr>\n",
       "      <th>1</th>\n",
       "      <td>2022-01-01 01:00:00</td>\n",
       "      <td>76818.07542</td>\n",
       "    </tr>\n",
       "    <tr>\n",
       "      <th>2</th>\n",
       "      <td>2022-01-01 02:00:00</td>\n",
       "      <td>74258.55192</td>\n",
       "    </tr>\n",
       "    <tr>\n",
       "      <th>3</th>\n",
       "      <td>2022-01-01 03:00:00</td>\n",
       "      <td>68339.55092</td>\n",
       "    </tr>\n",
       "    <tr>\n",
       "      <th>4</th>\n",
       "      <td>2022-01-01 04:00:00</td>\n",
       "      <td>63413.69092</td>\n",
       "    </tr>\n",
       "  </tbody>\n",
       "</table>\n",
       "</div>"
      ],
      "text/plain": [
       "             DATEHOUR  CONSUMPTION_H\n",
       "0 2022-01-01 00:00:00    92495.63742\n",
       "1 2022-01-01 01:00:00    76818.07542\n",
       "2 2022-01-01 02:00:00    74258.55192\n",
       "3 2022-01-01 03:00:00    68339.55092\n",
       "4 2022-01-01 04:00:00    63413.69092"
      ]
     },
     "execution_count": 10,
     "metadata": {},
     "output_type": "execute_result"
    }
   ],
   "source": [
    "df_rem_agg = df_remote.agg([('sum', 'CONSUMPTION', 'CONSUMPTION_H')], group_by='DATEHOUR').sort('DATEHOUR')\n",
    "df_rem_agg.head(5).collect()"
   ]
  },
  {
   "attachments": {},
   "cell_type": "markdown",
   "id": "3edabaa2",
   "metadata": {},
   "source": [
    "Display the SELECT statement that is underpinning the hana_ml DataFrame df_rem_agg. Notice the sum(\"CONSUMPTION\"), which creates the aggregation."
   ]
  },
  {
   "cell_type": "code",
   "execution_count": 11,
   "id": "d40d7052",
   "metadata": {},
   "outputs": [
    {
     "name": "stdout",
     "output_type": "stream",
     "text": [
      "SELECT * FROM (SELECT \"DATEHOUR\", sum(\"CONSUMPTION\") AS \"CONSUMPTION_H\" FROM (SELECT \"TIMESTAMP\", \"CONSUMPTION\", ADD_SECONDS(TIMESTAMP, -MINUTE(TIMESTAMP)*60) AS \"DATEHOUR\" FROM (SELECT * FROM \"LUCERNEELECTRICITY\") AS \"DT_0\") AS \"DT_7\" GROUP BY \"DATEHOUR\") AS \"DT_9\" ORDER BY \"DATEHOUR\" ASC\n"
     ]
    }
   ],
   "source": [
    "print(df_rem_agg.select_statement)"
   ]
  },
  {
   "attachments": {},
   "cell_type": "markdown",
   "id": "054af9e0-c264-47aa-a6cc-51ff7731aa7b",
   "metadata": {},
   "source": [
    "Add column that shows only the hour of the day. We use this column for further data analyis."
   ]
  },
  {
   "cell_type": "code",
   "execution_count": 12,
   "id": "cc9bbacb-35c9-4567-b306-393b2817004c",
   "metadata": {},
   "outputs": [
    {
     "data": {
      "text/html": [
       "<div>\n",
       "<style scoped>\n",
       "    .dataframe tbody tr th:only-of-type {\n",
       "        vertical-align: middle;\n",
       "    }\n",
       "\n",
       "    .dataframe tbody tr th {\n",
       "        vertical-align: top;\n",
       "    }\n",
       "\n",
       "    .dataframe thead th {\n",
       "        text-align: right;\n",
       "    }\n",
       "</style>\n",
       "<table border=\"1\" class=\"dataframe\">\n",
       "  <thead>\n",
       "    <tr style=\"text-align: right;\">\n",
       "      <th></th>\n",
       "      <th>DATEHOUR</th>\n",
       "      <th>CONSUMPTION_H</th>\n",
       "      <th>HOUR</th>\n",
       "    </tr>\n",
       "  </thead>\n",
       "  <tbody>\n",
       "    <tr>\n",
       "      <th>0</th>\n",
       "      <td>2022-01-01 00:00:00</td>\n",
       "      <td>92495.63742</td>\n",
       "      <td>0</td>\n",
       "    </tr>\n",
       "    <tr>\n",
       "      <th>1</th>\n",
       "      <td>2022-01-01 01:00:00</td>\n",
       "      <td>76818.07542</td>\n",
       "      <td>1</td>\n",
       "    </tr>\n",
       "    <tr>\n",
       "      <th>2</th>\n",
       "      <td>2022-01-01 02:00:00</td>\n",
       "      <td>74258.55192</td>\n",
       "      <td>2</td>\n",
       "    </tr>\n",
       "    <tr>\n",
       "      <th>3</th>\n",
       "      <td>2022-01-01 03:00:00</td>\n",
       "      <td>68339.55092</td>\n",
       "      <td>3</td>\n",
       "    </tr>\n",
       "    <tr>\n",
       "      <th>4</th>\n",
       "      <td>2022-01-01 04:00:00</td>\n",
       "      <td>63413.69092</td>\n",
       "      <td>4</td>\n",
       "    </tr>\n",
       "  </tbody>\n",
       "</table>\n",
       "</div>"
      ],
      "text/plain": [
       "             DATEHOUR  CONSUMPTION_H  HOUR\n",
       "0 2022-01-01 00:00:00    92495.63742     0\n",
       "1 2022-01-01 01:00:00    76818.07542     1\n",
       "2 2022-01-01 02:00:00    74258.55192     2\n",
       "3 2022-01-01 03:00:00    68339.55092     3\n",
       "4 2022-01-01 04:00:00    63413.69092     4"
      ]
     },
     "execution_count": 12,
     "metadata": {},
     "output_type": "execute_result"
    }
   ],
   "source": [
    "df_rem_agg = df_rem_agg.select('*', ('HOUR(DATEHOUR)', 'HOUR'))\n",
    "df_rem_agg.head(5).collect()"
   ]
  },
  {
   "attachments": {},
   "cell_type": "markdown",
   "id": "336371c6-eda0-42e6-ad7d-b2bb7f762428",
   "metadata": {},
   "source": [
    "See the distribution of consumption by the hour of the day. The creation of this chart might take a few seconds"
   ]
  },
  {
   "cell_type": "code",
   "execution_count": 13,
   "id": "c53e7eee-c0ab-44e3-8cf8-81f1b9a348a6",
   "metadata": {},
   "outputs": [
    {
     "data": {
      "image/png": "[encoded data removed]",
      "text/plain": [
       "<Figure size 1500x500 with 1 Axes>"
      ]
     },
     "metadata": {},
     "output_type": "display_data"
    }
   ],
   "source": [
    "import matplotlib.pyplot as plt\n",
    "from hana_ml.visualizers.eda import EDAVisualizer\n",
    "f = plt.figure()\n",
    "ax1 = f.add_subplot(111) # 111 refers to 1x1 grid, 1st subplot\n",
    "eda = EDAVisualizer(ax1)\n",
    "ax, cont = eda.box_plot(data=df_rem_agg, column='CONSUMPTION_H', groupby='HOUR', vert=True, outliers=False)"
   ]
  },
  {
   "cell_type": "markdown",
   "id": "0bae6dd9-afe9-44fd-9e3c-0bac9a027813",
   "metadata": {},
   "source": [
    "See the SELECT Statement that is behind the current hana_ml DataFrame"
   ]
  },
  {
   "cell_type": "code",
   "execution_count": 14,
   "id": "442af059-fe64-4fde-852e-e49c9a6e4826",
   "metadata": {},
   "outputs": [
    {
     "name": "stdout",
     "output_type": "stream",
     "text": [
      "SELECT \"DATEHOUR\", \"CONSUMPTION_H\", HOUR(DATEHOUR) AS \"HOUR\" FROM (SELECT * FROM (SELECT \"DATEHOUR\", sum(\"CONSUMPTION\") AS \"CONSUMPTION_H\" FROM (SELECT \"TIMESTAMP\", \"CONSUMPTION\", ADD_SECONDS(TIMESTAMP, -MINUTE(TIMESTAMP)*60) AS \"DATEHOUR\" FROM (SELECT * FROM \"LUCERNEELECTRICITY\") AS \"DT_0\") AS \"DT_7\" GROUP BY \"DATEHOUR\") AS \"DT_9\" ORDER BY \"DATEHOUR\" ASC) AS \"DT_10\"\n"
     ]
    }
   ],
   "source": [
    "print(df_rem_agg.select_statement)"
   ]
  },
  {
   "attachments": {},
   "cell_type": "markdown",
   "id": "f78f6d21-858b-4003-a104-dd4430357da6",
   "metadata": {},
   "source": [
    "Save the data structure, which includes the two calculated columns DATEHOUR and HOUR, as view for use in the next notebook. Only the semantics are saved, the data is not duplicated."
   ]
  },
  {
   "cell_type": "code",
   "execution_count": 15,
   "id": "5b961ac8-0c8e-483a-831f-6361ef0052f2",
   "metadata": {},
   "outputs": [
    {
     "data": {
      "text/plain": [
       "<hana_ml.dataframe.DataFrame at 0x7f1d562cf730>"
      ]
     },
     "execution_count": 15,
     "metadata": {},
     "output_type": "execute_result"
    }
   ],
   "source": [
    "df_rem_agg.save('V_LUCERNEELECTRICITY', table_type='VIEW', force=True)"
   ]
  },
  {
   "cell_type": "code",
   "execution_count": null,
   "id": "b9c7bb98-a92f-4f41-abb3-6fca52f7880f",
   "metadata": {},
   "outputs": [],
   "source": []
  }
 ],
 "metadata": {
  "kernelspec": {
   "display_name": "env",
   "language": "python",
   "name": "python3"
  },
  "language_info": {
   "codemirror_mode": {
    "name": "ipython",
    "version": 3
   },
   "file_extension": ".py",
   "mimetype": "text/x-python",
   "name": "python",
   "nbconvert_exporter": "python",
   "pygments_lexer": "ipython3",
   "version": "3.9.2"
  }
 },
 "nbformat": 4,
 "nbformat_minor": 5
}
